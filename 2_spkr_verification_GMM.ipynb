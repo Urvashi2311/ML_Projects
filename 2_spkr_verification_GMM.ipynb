{
  "nbformat": 4,
  "nbformat_minor": 0,
  "metadata": {
    "colab": {
      "provenance": [],
      "include_colab_link": true
    },
    "kernelspec": {
      "name": "python3",
      "display_name": "Python 3"
    },
    "language_info": {
      "name": "python"
    }
  },
  "cells": [
    {
      "cell_type": "markdown",
      "metadata": {
        "id": "view-in-github",
        "colab_type": "text"
      },
      "source": [
        "<a href=\"https://colab.research.google.com/github/Urvashi2311/ML_Projects/blob/main/2_spkr_verification_GMM.ipynb\" target=\"_parent\"><img src=\"https://colab.research.google.com/assets/colab-badge.svg\" alt=\"Open In Colab\"/></a>"
      ]
    },
    {
      "cell_type": "code",
      "metadata": {
        "id": "hPlxP4r9FU0h"
      },
      "source": [
        "import os\n",
        "import numpy as np\n",
        "import librosa\n",
        "import sklearn\n",
        "from sklearn.mixture import GaussianMixture"
      ],
      "execution_count": null,
      "outputs": []
    },
    {
      "cell_type": "code",
      "metadata": {
        "colab": {
          "base_uri": "https://localhost:8080/"
        },
        "id": "pjQlc-xKGrbG",
        "outputId": "f4045900-ae4b-4354-c6ca-b3799a6a8278"
      },
      "source": [
        "from google.colab import drive\n",
        "drive.mount('/content/drive')"
      ],
      "execution_count": null,
      "outputs": [
        {
          "output_type": "stream",
          "name": "stdout",
          "text": [
            "Mounted at /content/drive\n"
          ]
        }
      ]
    },
    {
      "cell_type": "markdown",
      "metadata": {
        "id": "BscPNHdOIh-c"
      },
      "source": [
        "We will first build a GMM for the speaker using the given training samples. We use 39 dimensional MFCCs as features."
      ]
    },
    {
      "cell_type": "code",
      "metadata": {
        "colab": {
          "base_uri": "https://localhost:8080/"
        },
        "id": "jdn0qvKpF4Hu",
        "outputId": "e099ac97-83de-4de1-ad76-86846ac0ddf5"
      },
      "source": [
        "read_path = \"/content/drive/MyDrive/Speech_Lab/WAV/spk_train/\"  # Path of wav files\n",
        "\n",
        "spkrGMM = GaussianMixture(n_components=1,covariance_type='full')\n",
        "indir = read_path\n",
        "os.chdir(indir)\n",
        "\n",
        "MFCCspkr = np.empty([0,39]) # Create empty array to hold MFCCs\n",
        "\n",
        "for root, dirs, filenames in os.walk(indir):\n",
        "    for f in sorted(filenames):\n",
        "        \n",
        "        y,sr=librosa.load(f, sr=8000, mono=True) # Reading the wav file\n",
        "        mfccs = librosa.feature.mfcc(y=y, sr=sr,n_fft=240,hop_length=60, n_mfcc=13) # Compute MFCC\n",
        "        mfcc_delta = librosa.feature.delta(mfccs, order=1) # Delta\n",
        "        mfcc_delta2 = librosa.feature.delta(mfccs, order=2) # Delta-delta\n",
        "        MFCCs=np.concatenate((mfccs,mfcc_delta,mfcc_delta2),axis=0) # Append with original. 13+13+13=39 dimensional\n",
        "        MFCCs = np.transpose(MFCCs) # Just to get 39 dimensions as coloumns, a standard practice.\n",
        "\n",
        "        MFCCspkr = np.concatenate((MFCCspkr,MFCCs),axis=0)\n",
        "        print(MFCCspkr.shape) # Shape after appending current file\n",
        "\n",
        "spkrGMM.fit(MFCCspkr)"
      ],
      "execution_count": null,
      "outputs": [
        {
          "output_type": "stream",
          "name": "stdout",
          "text": [
            "(3864, 39)\n",
            "(7728, 39)\n",
            "(11592, 39)\n",
            "(14537, 39)\n",
            "(17482, 39)\n",
            "(20427, 39)\n",
            "(23925, 39)\n",
            "(27423, 39)\n",
            "(30921, 39)\n",
            "(34132, 39)\n",
            "(37343, 39)\n",
            "(40554, 39)\n",
            "(43331, 39)\n",
            "(46108, 39)\n",
            "(48885, 39)\n",
            "(50802, 39)\n",
            "(52719, 39)\n",
            "(54636, 39)\n",
            "(57548, 39)\n",
            "(60460, 39)\n",
            "(63372, 39)\n",
            "(66733, 39)\n"
          ]
        },
        {
          "output_type": "execute_result",
          "data": {
            "text/plain": [
              "GaussianMixture()"
            ]
          },
          "metadata": {},
          "execution_count": 3
        }
      ]
    },
    {
      "cell_type": "markdown",
      "source": [
        "Build a GMM for Imposter class. It contains samples from 4 other speakers."
      ],
      "metadata": {
        "id": "nBxHFRsB97Dl"
      }
    },
    {
      "cell_type": "code",
      "source": [
        "read_path = \"/content/drive/MyDrive/Speech_Lab/WAV/Neg_train/\"  # Path of wav files\n",
        "\n",
        "ImposterGMM = GaussianMixture(n_components=1,covariance_type='full')\n",
        "indir = read_path\n",
        "os.chdir(indir)\n",
        "\n",
        "MFCCimposter = np.empty([0,39]) # Create empty array to hold MFCCs\n",
        "\n",
        "for root, dirs, filenames in os.walk(indir):\n",
        "    for f in sorted(filenames):\n",
        "        \n",
        "        y,sr=librosa.load(f, sr=8000, mono=True) # Reading the wav file\n",
        "        mfccs = librosa.feature.mfcc(y=y, sr=sr,n_fft=240,hop_length=60, n_mfcc=13) # Compute MFCC\n",
        "        mfcc_delta = librosa.feature.delta(mfccs, order=1) # Delta\n",
        "        mfcc_delta2 = librosa.feature.delta(mfccs, order=2) # Delta-delta\n",
        "        MFCCs=np.concatenate((mfccs,mfcc_delta,mfcc_delta2),axis=0) # Append with original. 13+13+13=39 dimensional\n",
        "        MFCCs = np.transpose(MFCCs) # Just to get 39 dimensions as coloumns, a standard practice.\n",
        "\n",
        "        MFCCimposter = np.concatenate((MFCCimposter,MFCCs),axis=0)\n",
        "        print(MFCCimposter.shape) # Shape after appending current file\n",
        "        \n",
        "ImposterGMM.fit(MFCCimposter)"
      ],
      "metadata": {
        "colab": {
          "base_uri": "https://localhost:8080/"
        },
        "id": "3Mlxp1PT7pIm",
        "outputId": "62d1f1c9-a7f3-4beb-e269-d11affb5c171"
      },
      "execution_count": null,
      "outputs": [
        {
          "output_type": "stream",
          "name": "stdout",
          "text": [
            "(3063, 39)\n",
            "(6126, 39)\n",
            "(9189, 39)\n",
            "(12241, 39)\n",
            "(15293, 39)\n",
            "(17810, 39)\n",
            "(20327, 39)\n",
            "(22844, 39)\n",
            "(24512, 39)\n",
            "(26180, 39)\n",
            "(29181, 39)\n",
            "(32182, 39)\n",
            "(35183, 39)\n",
            "(38039, 39)\n",
            "(40895, 39)\n",
            "(44031, 39)\n",
            "(47167, 39)\n",
            "(50303, 39)\n",
            "(52949, 39)\n",
            "(55595, 39)\n"
          ]
        },
        {
          "output_type": "execute_result",
          "data": {
            "text/plain": [
              "GaussianMixture()"
            ]
          },
          "metadata": {},
          "execution_count": 4
        }
      ]
    },
    {
      "cell_type": "markdown",
      "metadata": {
        "id": "R12i1DZHHCTT"
      },
      "source": [
        "Now let's test the speaker verification system. We will pass +ve test samples and see if it gets recognized correctly. Also, we will pass -ve test samples (samples from other speakers) to check if they are rejected correctly.\n",
        "We will take the decision based on the likelyhood given by the GMM."
      ]
    },
    {
      "cell_type": "code",
      "metadata": {
        "colab": {
          "base_uri": "https://localhost:8080/"
        },
        "id": "WwcoeUohG_qr",
        "outputId": "e19cae42-5a7b-4671-f1d5-44f2ca6b662a"
      },
      "source": [
        "test_path = \"/content/drive/MyDrive/Speech_Lab/WAV/spk_test1/\"  # Path of wav files\n",
        "print('Testing for +ve samples: ')\n",
        "indir = test_path\n",
        "os.chdir(indir)\n",
        "\n",
        "for root, dirs, filenames in os.walk(indir):\n",
        "    for f in sorted(filenames):\n",
        "        \n",
        "        y,sr=librosa.load(f, sr=8000, mono=True) # Reading the wav file\n",
        "        mfccs = librosa.feature.mfcc(y=y, sr=sr,n_fft=240,hop_length=60, n_mfcc=13) # Compute MFCC\n",
        "        mfcc_delta = librosa.feature.delta(mfccs, order=1) # Delta\n",
        "        mfcc_delta2 = librosa.feature.delta(mfccs, order=2) # Delta-delta\n",
        "        MFCCs=np.concatenate((mfccs,mfcc_delta,mfcc_delta2),axis=0) # Append with original. 13+13+13=39 dimensional\n",
        "        MFCCs = np.transpose(MFCCs) # Just to get 39 dimensions as coloumns, a standard practice.\n",
        "\n",
        "        ll1 = np.mean(spkrGMM.score_samples(MFCCs))\n",
        "        ll2 = np.mean(ImposterGMM.score_samples(MFCCs))\n",
        "        print('Filename,',f,'   Likelyhood for speaker=',ll1,',    Likelyhood for Imposter=',ll2 )\n",
        "        if ll1>=ll2:\n",
        "          print('Recognized as Speaker')\n",
        "        else:\n",
        "          print('Recognized as Imposter !!!!!')"
      ],
      "execution_count": null,
      "outputs": [
        {
          "output_type": "stream",
          "name": "stdout",
          "text": [
            "Testing for +ve samples: \n",
            "Filename, 1kc.wav    Likelyhood for speaker= -115.10947079177323 ,    Likelyhood for Imposter= -121.11675298761767\n",
            "Recognized as Speaker\n",
            "Filename, 1la.wav    Likelyhood for speaker= -117.95503330480868 ,    Likelyhood for Imposter= -123.63402332253115\n",
            "Recognized as Speaker\n",
            "Filename, 1lb.wav    Likelyhood for speaker= -116.158285651061 ,    Likelyhood for Imposter= -121.1074958831578\n",
            "Recognized as Speaker\n",
            "Filename, 1lc.wav    Likelyhood for speaker= -118.51661384018593 ,    Likelyhood for Imposter= -124.07577877431314\n",
            "Recognized as Speaker\n",
            "Filename, 1ma.wav    Likelyhood for speaker= -116.9140817235253 ,    Likelyhood for Imposter= -121.64326563868909\n",
            "Recognized as Speaker\n",
            "Filename, 1mb.wav    Likelyhood for speaker= -115.99672844929121 ,    Likelyhood for Imposter= -120.91134037707889\n",
            "Recognized as Speaker\n",
            "Filename, 1mc.wav    Likelyhood for speaker= -117.45752592872563 ,    Likelyhood for Imposter= -122.24062265941261\n",
            "Recognized as Speaker\n",
            "Filename, 1na.wav    Likelyhood for speaker= -115.44385872184837 ,    Likelyhood for Imposter= -120.45130239591654\n",
            "Recognized as Speaker\n",
            "Filename, 1nb.wav    Likelyhood for speaker= -115.79821499489789 ,    Likelyhood for Imposter= -120.47724276961542\n",
            "Recognized as Speaker\n",
            "Filename, 1nc.wav    Likelyhood for speaker= -116.27976822786208 ,    Likelyhood for Imposter= -121.09864146614244\n",
            "Recognized as Speaker\n"
          ]
        }
      ]
    },
    {
      "cell_type": "markdown",
      "metadata": {
        "id": "ydA8aa8SIHYy"
      },
      "source": [
        "Observe that the likelyhood(+ve samples)>likelyhood(-ve samples). Hence system identifies all test samples correctly !!"
      ]
    },
    {
      "cell_type": "code",
      "source": [
        "test_path = \"/content/drive/MyDrive/Speech_Lab/WAV/Neg_test1/\"  # Path of wav files\n",
        "print('Testing for Imposter samples: ')\n",
        "indir = test_path\n",
        "os.chdir(indir)\n",
        "\n",
        "for root, dirs, filenames in os.walk(indir):\n",
        "    for f in sorted(filenames):\n",
        "        \n",
        "        y,sr=librosa.load(f, sr=8000, mono=True) # Reading the wav file\n",
        "        mfccs = librosa.feature.mfcc(y=y, sr=sr,n_fft=240,hop_length=60, n_mfcc=13) # Compute MFCC\n",
        "        mfcc_delta = librosa.feature.delta(mfccs, order=1) # Delta\n",
        "        mfcc_delta2 = librosa.feature.delta(mfccs, order=2) # Delta-delta\n",
        "        MFCCs=np.concatenate((mfccs,mfcc_delta,mfcc_delta2),axis=0) # Append with original. 13+13+13=39 dimensional\n",
        "        MFCCs = np.transpose(MFCCs) # Just to get 39 dimensions as coloumns, a standard practice.\n",
        "\n",
        "        ll1 = np.mean(spkrGMM.score_samples(MFCCs))\n",
        "        ll2 = np.mean(ImposterGMM.score_samples(MFCCs))\n",
        "        print('Filename,',f,'   Likelyhood for speaker=',ll1,',    Likelyhood for Imposter=',ll2 )\n",
        "        if ll1>=ll2:\n",
        "          print('Recognized as Speaker')\n",
        "        else:\n",
        "          print('Recognized as Imposter !!!!!')"
      ],
      "metadata": {
        "colab": {
          "base_uri": "https://localhost:8080/"
        },
        "id": "QpgPVocb-SI-",
        "outputId": "8736291f-5de4-4eed-efe9-e00248f64aa4"
      },
      "execution_count": null,
      "outputs": [
        {
          "output_type": "stream",
          "name": "stdout",
          "text": [
            "Testing for Imposter samples: \n",
            "Filename, 2bc.wav    Likelyhood for speaker= -127.99355321192513 ,    Likelyhood for Imposter= -116.16618017709612\n",
            "Recognized as Imposter !!!!!\n",
            "Filename, 2ca.wav    Likelyhood for speaker= -129.8810130496317 ,    Likelyhood for Imposter= -117.06760390505507\n",
            "Recognized as Imposter !!!!!\n",
            "Filename, 2cb.wav    Likelyhood for speaker= -132.09783452400708 ,    Likelyhood for Imposter= -117.73639290334121\n",
            "Recognized as Imposter !!!!!\n",
            "Filename, 2cc.wav    Likelyhood for speaker= -129.30893718787289 ,    Likelyhood for Imposter= -116.8599996677105\n",
            "Recognized as Imposter !!!!!\n",
            "Filename, 3bc.wav    Likelyhood for speaker= -125.1645842352801 ,    Likelyhood for Imposter= -121.63888023922718\n",
            "Recognized as Imposter !!!!!\n",
            "Filename, 3ca.wav    Likelyhood for speaker= -127.89832297041318 ,    Likelyhood for Imposter= -123.67718713685281\n",
            "Recognized as Imposter !!!!!\n",
            "Filename, 3cb.wav    Likelyhood for speaker= -125.77110105332306 ,    Likelyhood for Imposter= -121.35945218056975\n",
            "Recognized as Imposter !!!!!\n",
            "Filename, 3cc.wav    Likelyhood for speaker= -126.43749245721915 ,    Likelyhood for Imposter= -121.92431080676288\n",
            "Recognized as Imposter !!!!!\n",
            "Filename, 4bc.wav    Likelyhood for speaker= -127.87261761456725 ,    Likelyhood for Imposter= -119.88990050051314\n",
            "Recognized as Imposter !!!!!\n",
            "Filename, 4ca.wav    Likelyhood for speaker= -129.13114608451448 ,    Likelyhood for Imposter= -119.93533996104719\n",
            "Recognized as Imposter !!!!!\n",
            "Filename, 4cb.wav    Likelyhood for speaker= -127.83386010301824 ,    Likelyhood for Imposter= -119.68860310132844\n",
            "Recognized as Imposter !!!!!\n",
            "Filename, 4cc.wav    Likelyhood for speaker= -126.55502514294253 ,    Likelyhood for Imposter= -118.48885328021967\n",
            "Recognized as Imposter !!!!!\n",
            "Filename, 5bc.wav    Likelyhood for speaker= -134.75777571864734 ,    Likelyhood for Imposter= -120.32168697234037\n",
            "Recognized as Imposter !!!!!\n",
            "Filename, 5ca.wav    Likelyhood for speaker= -133.22994814166105 ,    Likelyhood for Imposter= -121.0654172168754\n",
            "Recognized as Imposter !!!!!\n",
            "Filename, 5cb.wav    Likelyhood for speaker= -131.96538085780298 ,    Likelyhood for Imposter= -120.33625234387446\n",
            "Recognized as Imposter !!!!!\n",
            "Filename, 5cc.wav    Likelyhood for speaker= -129.88915259086042 ,    Likelyhood for Imposter= -120.35439317691203\n",
            "Recognized as Imposter !!!!!\n"
          ]
        }
      ]
    }
  ]
}